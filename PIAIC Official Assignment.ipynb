{
 "cells": [
  {
   "cell_type": "markdown",
   "metadata": {},
   "source": [
    "# Presidential Initiative for Artificial Intelligence and Computing (PIAIC)\n",
    "\n",
    "https://www.piaic.org\n",
    "\n",
    "### AI Program\n",
    "\n",
    "### Python Programming Assignment 1\n",
    "\n",
    "### Quarter I:\n",
    "\n",
    "#### AI-101 Fundamentals of Programming using Python\n",
    "\n",
    "### First Quarter 2019 (12 Weeks)\n",
    "\n",
    "\n",
    "##### 1. Calculate Area of a Circle\n",
    "\n",
    "Write a Python program which accepts the radius of a circle from the user and compute the area.\n",
    "\n",
    "##### Program Console Sample Output 1:\n",
    "\n",
    "Input Radius: 0.5\n",
    "\n",
    "Area of Circle with radius 0.5 is 0.7853981634\n",
    "\n",
    "References:\n",
    "https://www.mathsisfun.com/geometry/circle-area.html"
   ]
  },
  {
   "cell_type": "code",
   "execution_count": 8,
   "metadata": {},
   "outputs": [
    {
     "name": "stdout",
     "output_type": "stream",
     "text": [
      "Input Radius: 0.5\n",
      "Area of Circle with radius 0.5 is 0.7853981634\n"
     ]
    }
   ],
   "source": [
    "from math import pi\n",
    "\n",
    "radius = float(input(\"Input Radius: \"))\n",
    "\n",
    "area = pi * (radius ** 2)\n",
    "\n",
    "print(\"Area of Circle with radius\", radius, \"is\", round(area, 10))"
   ]
  },
  {
   "cell_type": "markdown",
   "metadata": {},
   "source": [
    "##### 2. Check Number either positive, negative or zero\n",
    "\n",
    "Write a Python program to check if a number is positive, negative or zero\n",
    "\n",
    "##### Program Console Sample Output 1:\n",
    "\n",
    "Enter Number: -1\n",
    "\n",
    "Negative Number Entered\n",
    "\n",
    "##### Program Console Sample Output 2:\n",
    "\n",
    "Integer: 3\n",
    "\n",
    "Positive Number Entered\n",
    "\n",
    "##### Program Console Sample Output 3:\n",
    "\n",
    "Integer: 0\n",
    "\n",
    "Zero Entered"
   ]
  },
  {
   "cell_type": "code",
   "execution_count": 9,
   "metadata": {},
   "outputs": [
    {
     "name": "stdout",
     "output_type": "stream",
     "text": [
      "Enter Number: 3\n",
      "Positive Number Entered\n"
     ]
    }
   ],
   "source": [
    "number = int(input(\"Enter Number: \"))\n",
    "if number > 0:\n",
    "    print(\"Positive Number Entered\")\n",
    "elif number < 0:\n",
    "    print(\"Negative Number Entered\")\n",
    "else:\n",
    "    print(\"Zero Entered\")"
   ]
  },
  {
   "cell_type": "markdown",
   "metadata": {},
   "source": [
    "##### 3. Divisibility Check of two numbers\n",
    "\n",
    "Write a Python program to check whether a number is completely divisible by another number. Accept two integer values from the user\n",
    "\n",
    "##### Program Console Sample Output 1:\n",
    "\n",
    "Enter numerator: 4\n",
    "\n",
    "Enter Denominator: 2\n",
    "\n",
    "Number 4 is Completely divisible by 2\n",
    "\n",
    "##### Program Console Sample Output 2:\n",
    "\n",
    "Enter numerator: 7\n",
    "\n",
    "Enter Denominator: 4\n",
    "\n",
    "Number 7 is not Completely divisible by 4"
   ]
  },
  {
   "cell_type": "code",
   "execution_count": 10,
   "metadata": {},
   "outputs": [
    {
     "name": "stdout",
     "output_type": "stream",
     "text": [
      "Enter numerator: 7\n",
      "Enter Denominator: 4\n",
      "Number 7 is not Completely divisible by 4\n"
     ]
    }
   ],
   "source": [
    "numerator = int(input(\"Enter numerator: \"))\n",
    "denominator = int(input(\"Enter Denominator: \"))\n",
    "if numerator % denominator == 0:\n",
    "    print(\"Number\", numerator, \"is Completely divisible by\", denominator)\n",
    "else:\n",
    "    print(\"Number\", numerator, \"is not Completely divisible by\", denominator)"
   ]
  },
  {
   "cell_type": "markdown",
   "metadata": {},
   "source": [
    "#### 4. Days Calculator\n",
    "\n",
    "Write a Python program to calculate number of days between two dates\n",
    "\n",
    "##### Program Console Output:\n",
    "\n",
    "Enter a date in (dd/mm/yy) format: 12/12/2018\n",
    "\n",
    "Enter a date in (dd/mm/yy) format: 16/12/2018\n",
    "\n",
    "There are 4 days in between 12/12/2018 and 16/12/18"
   ]
  },
  {
   "cell_type": "code",
   "execution_count": 1,
   "metadata": {},
   "outputs": [
    {
     "name": "stdout",
     "output_type": "stream",
     "text": [
      "Enter a date in (dd/mm/yy) format: 22/06.19\n",
      "Enter a date in (dd/mm/yy) format: 24/06/19\n",
      "There are 2 days in between 22/06.19 and 24/06/19\n"
     ]
    }
   ],
   "source": [
    "days_in_months = [31, 29, 31, 30, 31, 30, 31, 31, 30, 31, 30, 31]\n",
    "date_1 = input(\"Enter a date in (dd/mm/yy) format: \")\n",
    "date_2 = input(\"Enter a date in (dd/mm/yy) format: \")\n",
    "days = int(date_2[:2]) - int(date_1[:2])\n",
    "months = int(date_2[3:5]) - int(date_1[3:5])\n",
    "years = int(date_2[-2:]) - int(date_1[-2:])\n",
    "years_to_days = years * 365\n",
    "months_to_days = 0\n",
    "for m in range(int(date_1[3:5]), int(date_2[3:5])):\n",
    "    months_to_days += days_in_months[m]\n",
    "total_days = days + months_to_days + years_to_days\n",
    "print(\"There are\", total_days, \"days in between\", date_1, \"and\", date_2)"
   ]
  },
  {
   "cell_type": "markdown",
   "metadata": {},
   "source": [
    "#### 5. Calculate Volume of a sphere\n",
    "\n",
    "Write a Python program to get the volume of a sphere, please take the radius as input from user\n",
    "\n",
    "##### Program Console Output:\n",
    "\n",
    "Enter Radius of Sphere: 1\n",
    "\n",
    "Volume of the Sphere with Radius 1 is 4.18\n",
    "\n",
    "##### Reference:\n",
    "\n",
    "https://keisan.casio.com/exec/system/1223372883"
   ]
  },
  {
   "cell_type": "code",
   "execution_count": null,
   "metadata": {},
   "outputs": [],
   "source": [
    "from math import pi\n",
    "radius = int(input(\"Enter Radius of Sphere: \"))\n",
    "sphere_volume = (4 / 3) * pi * (radius ** 3)\n",
    "print(\"Volume of the Sphere with Radius\", radius, \"is\", round(sphere_volume, 2))"
   ]
  },
  {
   "cell_type": "markdown",
   "metadata": {},
   "source": [
    "###### 6. Copy string n times\n",
    "\n",
    "Write a Python program to get a string which is n (non-negative integer) copies of a given string. \n",
    "\n",
    "#### Program Console Output:\n",
    "\n",
    "Enter String: Hi\n",
    "\n",
    "How many copies of String you need: 4\n",
    "\n",
    "4 Copies of Hi are HiHiHiHi"
   ]
  },
  {
   "cell_type": "code",
   "execution_count": 3,
   "metadata": {},
   "outputs": [
    {
     "name": "stdout",
     "output_type": "stream",
     "text": [
      "Enter String: Happy Birthday Sherry!\n",
      "How many copies of String you need: 100\n",
      "100 Copies of Happy Birthday Sherry! are Happy Birthday Sherry!Happy Birthday Sherry!Happy Birthday Sherry!Happy Birthday Sherry!Happy Birthday Sherry!Happy Birthday Sherry!Happy Birthday Sherry!Happy Birthday Sherry!Happy Birthday Sherry!Happy Birthday Sherry!Happy Birthday Sherry!Happy Birthday Sherry!Happy Birthday Sherry!Happy Birthday Sherry!Happy Birthday Sherry!Happy Birthday Sherry!Happy Birthday Sherry!Happy Birthday Sherry!Happy Birthday Sherry!Happy Birthday Sherry!Happy Birthday Sherry!Happy Birthday Sherry!Happy Birthday Sherry!Happy Birthday Sherry!Happy Birthday Sherry!Happy Birthday Sherry!Happy Birthday Sherry!Happy Birthday Sherry!Happy Birthday Sherry!Happy Birthday Sherry!Happy Birthday Sherry!Happy Birthday Sherry!Happy Birthday Sherry!Happy Birthday Sherry!Happy Birthday Sherry!Happy Birthday Sherry!Happy Birthday Sherry!Happy Birthday Sherry!Happy Birthday Sherry!Happy Birthday Sherry!Happy Birthday Sherry!Happy Birthday Sherry!Happy Birthday Sherry!Happy Birthday Sherry!Happy Birthday Sherry!Happy Birthday Sherry!Happy Birthday Sherry!Happy Birthday Sherry!Happy Birthday Sherry!Happy Birthday Sherry!Happy Birthday Sherry!Happy Birthday Sherry!Happy Birthday Sherry!Happy Birthday Sherry!Happy Birthday Sherry!Happy Birthday Sherry!Happy Birthday Sherry!Happy Birthday Sherry!Happy Birthday Sherry!Happy Birthday Sherry!Happy Birthday Sherry!Happy Birthday Sherry!Happy Birthday Sherry!Happy Birthday Sherry!Happy Birthday Sherry!Happy Birthday Sherry!Happy Birthday Sherry!Happy Birthday Sherry!Happy Birthday Sherry!Happy Birthday Sherry!Happy Birthday Sherry!Happy Birthday Sherry!Happy Birthday Sherry!Happy Birthday Sherry!Happy Birthday Sherry!Happy Birthday Sherry!Happy Birthday Sherry!Happy Birthday Sherry!Happy Birthday Sherry!Happy Birthday Sherry!Happy Birthday Sherry!Happy Birthday Sherry!Happy Birthday Sherry!Happy Birthday Sherry!Happy Birthday Sherry!Happy Birthday Sherry!Happy Birthday Sherry!Happy Birthday Sherry!Happy Birthday Sherry!Happy Birthday Sherry!Happy Birthday Sherry!Happy Birthday Sherry!Happy Birthday Sherry!Happy Birthday Sherry!Happy Birthday Sherry!Happy Birthday Sherry!Happy Birthday Sherry!Happy Birthday Sherry!Happy Birthday Sherry!Happy Birthday Sherry!\n"
     ]
    }
   ],
   "source": [
    "str = input(\"Enter String: \")\n",
    "n = int(input(\"How many copies of String you need: \"))\n",
    "print(n, \"Copies of\", str, \"are\", str * n)"
   ]
  },
  {
   "cell_type": "markdown",
   "metadata": {},
   "source": [
    "##### 7. Check if number is Even or Odd\n",
    "\n",
    "Write a Python program to find whether a given number (accept from the user) is even or odd, print out an appropriate message to the user\n",
    "\n",
    "##### Program Console Output 1:\n",
    "\n",
    "Enter Number: 4\n",
    "\n",
    "4 is Even\n",
    "\n",
    "##### Program Console Output 2:\n",
    "\n",
    "Enter Number: 9\n",
    "\n",
    "9 is Odd"
   ]
  },
  {
   "cell_type": "code",
   "execution_count": null,
   "metadata": {},
   "outputs": [],
   "source": [
    "num = int(input(\"Enter Number: \"))\n",
    "if num % 2 == 0:\n",
    "    print(num, \"is Even\")\n",
    "else:\n",
    "    print(num, \"is Odd\")"
   ]
  },
  {
   "cell_type": "markdown",
   "metadata": {},
   "source": [
    "#### 8. Vowel Tester\n",
    "\n",
    "Write a Python program to test whether a passed letter is a vowel or not\n",
    "\n",
    "##### Program Console Output 1:\n",
    "\n",
    "Enter a character: A\n",
    "\n",
    "Letter A is Vowel\n",
    "\n",
    "##### Program Console Output 2:\n",
    "\n",
    "Enter a character: e\n",
    "\n",
    "Letter e is Vowel\n",
    "##### Program Console Output 2:\n",
    "\n",
    "Enter a character: N\n",
    "\n",
    "Letter N is not Vowel"
   ]
  },
  {
   "cell_type": "code",
   "execution_count": null,
   "metadata": {},
   "outputs": [],
   "source": [
    "chr = input(\"Enter a character: \")\n",
    "if chr in \"AEIOUaeiou\":\n",
    "    print(\"Letter\", chr, \"is Vowel\")\n",
    "else:\n",
    "    print(\"Letter\", chr, \"is not Vowel\")"
   ]
  },
  {
   "cell_type": "markdown",
   "metadata": {},
   "source": [
    "#### 9. Triangle area\n",
    "\n",
    "Write a Python program that will accept the base and height of a triangle and compute the area\n",
    "\n",
    "##### Program Console Sample 1:\n",
    "\n",
    "Enter magnitude of Triangle base: 4\n",
    "\n",
    "Enter Magnitude of Triangle Height: 4\n",
    "\n",
    "Area of a Triangle with Height 4 and Base 4 is 8\n",
    "\n",
    "###### Reference:\n",
    "\n",
    "https://www.mathgoodies.com/lessons/vol1/area_triangle"
   ]
  },
  {
   "cell_type": "code",
   "execution_count": null,
   "metadata": {},
   "outputs": [],
   "source": [
    "base = int(input(\"Enter magnitude of Triangle base: \"))\n",
    "\n",
    "height = int(input(\"Enter Magnitude of Triangle Height: \"))\n",
    "\n",
    "triangle_area = int((1 / 2) * base * height)\n",
    "print(\"Area of a Triangle with Height\", height, \"and Base\", base, \"is\", triangle_area)"
   ]
  },
  {
   "cell_type": "markdown",
   "metadata": {},
   "source": [
    "#### 10. Calculate Interest\n",
    "\n",
    "Write a Python program to compute the future value of a specified principal amount, rate of interest, and a number \n",
    "\n",
    "of years\n",
    "\n",
    "#### Program Console Sample 1:\n",
    "\n",
    "Please enter principal amount: 10000\n",
    "\n",
    "Please Enter Rate of interest in %: 0.1\n",
    "\n",
    "Enter number of years for investment: 5\n",
    "\n",
    "After 5 years your principal amount 10000 over an interest rate of 0.1 % will be 16105.1"
   ]
  },
  {
   "cell_type": "code",
   "execution_count": 4,
   "metadata": {},
   "outputs": [
    {
     "name": "stdout",
     "output_type": "stream",
     "text": [
      "Please enter principal amount: 10000\n",
      "Please Enter Rate of interest in %: 0.1\n",
      "Enter number of years for investment: 5\n",
      "After 5 years your principal amount 10000 over an interest rate of 0.1 % will be 16105.1\n"
     ]
    }
   ],
   "source": [
    "principal = int(input(\"Please enter principal amount: \"))\n",
    "\n",
    "interest = float(input(\"Please Enter Rate of interest in %: \"))\n",
    "\n",
    "years = int(input(\"Enter number of years for investment: \"))\n",
    "\n",
    "new_principal = (principal * (1 + interest)) ** years\n",
    "\n",
    "print(\"After\", years, \"years your principal amount\", principal, \"over an interest rate of\", interest, \"% will be\",  new_principal / (10 ** 16))"
   ]
  },
  {
   "cell_type": "markdown",
   "metadata": {},
   "source": [
    "#### 11. Euclidean distance\n",
    "\n",
    "Write a Python program to compute the distance between the points (x1, y1) and (x2, y2).\n",
    "\n",
    "#### Program Console Sample 1:\n",
    "\n",
    "Enter Co-ordinate for x1: 2\n",
    "\n",
    "Enter Co-ordinate for x2: 4\n",
    "\n",
    "Enter Co-ordinate for y1: 4\n",
    "\n",
    "Enter Co-ordinate for y2: 4\n",
    "\n",
    "Distance between points (2, 4) and (4, 4) is 2\n",
    "\n",
    "#### Reference:\n",
    "\n",
    "https://en.wikipedia.org/wiki/Euclidean_distance"
   ]
  },
  {
   "cell_type": "code",
   "execution_count": null,
   "metadata": {},
   "outputs": [],
   "source": [
    "x1 = int(input(\"Enter Co-ordinate for x1: \"))\n",
    "x2 = int(input(\"Enter Co-ordinate for x2: \"))\n",
    "y1 = int(input(\"Enter Co-ordinate for y1: \"))\n",
    "y2 = int(input(\"Enter Co-ordinate for y2: \"))\n",
    "distance = int((((x2 - x1) ** 2) + ((y2 - y1) ** 2)) ** (1 / 2))\n",
    "print(f\"Distance between points ({x1}, {y1}) and ({x2}, {y2}) is {distance}\")"
   ]
  },
  {
   "cell_type": "markdown",
   "metadata": {},
   "source": [
    "##### 12. Feet to Centimeter Converter\n",
    "\n",
    "Write a Python program to convert height in feet to centimetres.\n",
    "\n",
    "Program Console Sample 1:\n",
    "\n",
    "Enter Height in Feet: 5\n",
    "\n",
    "There are 152.4 Cm in 5 ft\n",
    "\n",
    "#### Reference:\n",
    "\n",
    "https://www.rapidtables.com/convert/length/feet-to-cm.html"
   ]
  },
  {
   "cell_type": "code",
   "execution_count": null,
   "metadata": {},
   "outputs": [],
   "source": [
    "feet = int(input(\"Enter Height in Feet: \"))\n",
    "cm = feet * 30.48\n",
    "print(\"There are 152.4 Cm in 5 ft\")"
   ]
  },
  {
   "cell_type": "markdown",
   "metadata": {},
   "source": [
    "### 13. BMI Calculator\n",
    "\n",
    "Write a Python program to calculate body mass index\n",
    "Program Console Sample 1:\n",
    "\n",
    "Enter Height in Cm: 180\n",
    "\n",
    "Enter Weight in Kg: 75\n",
    "\n",
    "Your BMI is 23.15\n",
    "\n",
    "#### Reference:\n",
    "\n",
    "https://www.thecalculatorsite.com/articles/health/bmi-formula-for-bmi-calculations.php"
   ]
  },
  {
   "cell_type": "code",
   "execution_count": null,
   "metadata": {},
   "outputs": [],
   "source": [
    "height = float(input(\"Enter Height in Cm: \"))\n",
    "\n",
    "weight = float(input(\"Enter Weight in Kg: \"))\n",
    "\n",
    "height *= (10 ** (-2))\n",
    "\n",
    "bmi = weight / (height ** 2)\n",
    "\n",
    "bmi = round(bmi, 2)\n",
    "\n",
    "print(f\"Your BMI is {bmi}\")"
   ]
  },
  {
   "cell_type": "markdown",
   "metadata": {},
   "source": [
    "### 14. Sum of n Positive Integers\n",
    "\n",
    "Write a python program to sum of the first n positive integers\n",
    "\n",
    "#### Program Console Sample 1:\n",
    "\n",
    "Enter value of n: 5\n",
    "\n",
    "Sum of n Positive integers till 5 is 15"
   ]
  },
  {
   "cell_type": "code",
   "execution_count": null,
   "metadata": {},
   "outputs": [],
   "source": [
    "n = int(input(\"Enter value of n: \"))\n",
    "\n",
    "n2 = sum(range(n + 1))\n",
    "\n",
    "print(f\"Sum of n Positive integers till {n} is {n2}\")"
   ]
  },
  {
   "cell_type": "markdown",
   "metadata": {},
   "source": [
    "### 15. Digits Sum of a Number\n",
    "\n",
    "Write a Python program to calculate the sum of the digits in an integer\n",
    "\n",
    "#### Program Console Sample 1:\n",
    "\n",
    "Enter a number: 15\n",
    "\n",
    "Sum of 1 + 5 is 6\n",
    "\n",
    "#### Program Console Sample 2:\n",
    "\n",
    "Enter a number: 1234\n",
    "\n",
    "Sum of 1 + 2 + 3 + 4 is 10"
   ]
  },
  {
   "cell_type": "code",
   "execution_count": null,
   "metadata": {},
   "outputs": [],
   "source": [
    "num = input(\"Enter a number: \")\n",
    "i, sum = 0, 0\n",
    "print(\"Sum of\", end = \" \")\n",
    "for n in num:\n",
    "    sum += int(num[i])\n",
    "    print(f\"{n}\", end = \" \")\n",
    "    if i < (len(num) - 1):\n",
    "        print(\"+\", end = \" \")\n",
    "    i += 1\n",
    "print(f\"is {sum}\")"
   ]
  },
  {
   "cell_type": "markdown",
   "metadata": {},
   "source": [
    "### 16. Decimal to Binary Converter\n",
    "\n",
    "Write a Python program to convert an decimal integer to binary\n",
    "\n",
    "#### Program Console Sample 1:\n",
    "\n",
    "Enter a decimal number: 5\n",
    "\n",
    "Binary Representation of 5 is 101\n",
    "\n",
    "#### Program Console Sample 2:\n",
    "\n",
    "Enter a decimal number: 32\n",
    "\n",
    "Binary Representation of 32 is 100000\n",
    "\n",
    "Reference:\n",
    "\n",
    "https://www.rapidtables.com/convert/number/decimal-to-binary.html"
   ]
  },
  {
   "cell_type": "code",
   "execution_count": null,
   "metadata": {},
   "outputs": [],
   "source": [
    "dec_num = int(input(\"Enter a decimal number: \"))\n",
    "bin_num = \"\"\n",
    "while True:\n",
    "    bin_num += str(dec_num % 2)\n",
    "    dec_num //= 2\n",
    "    if dec_num == 0:\n",
    "        break\n",
    "bin_numb = bin_num\n",
    "bin_num = \"\"\n",
    "for i range(1, len(bin_num) + 1):\n",
    "    bin_num += bin_numb[-i]\n",
    "print(f\"Binary Representation of {dec_num} is {bin_num}\")"
   ]
  },
  {
   "cell_type": "markdown",
   "metadata": {},
   "source": [
    "### 17. Binary to Decimal Converter\n",
    "\n",
    "Write a program to convert binary number to Decimal number\n",
    "\n",
    "#### Program Console Sample 1:\n",
    "\n",
    "Enter a Binary number: 1101\n",
    "\n",
    "Decimal Representation of 1101 is 13\n",
    "\n",
    "#### Program Console Sample 2:\n",
    "\n",
    "Enter a Binary number: 1001\n",
    "\n",
    "Decimal Representation of 1001 is 9\n",
    "#### Reference:\n",
    "\n",
    "https://www.rapidtables.com/convert/number/binary-to-decimal.html"
   ]
  },
  {
   "cell_type": "code",
   "execution_count": null,
   "metadata": {},
   "outputs": [],
   "source": [
    "bin_num = input(\"Enter a Binary number: \")\n",
    "dec_num = 0\n",
    "i = 0\n",
    "for digit in bin_num:\n",
    "    dec_num += int(bin_num[i]) * (2 ** ((len(bin_num) - 1) - i))\n",
    "    i += 1\n",
    "print(f\"Decimal Representation of {bin_num} is {dec_num}\")"
   ]
  },
  {
   "cell_type": "markdown",
   "metadata": {},
   "source": [
    "### 18. Vowel and Consonants Counter\n",
    "\n",
    "Input a text and count the occurrences of vowels and consonant\n",
    "\n",
    "#### Program Console Sample 1:\n",
    "\n",
    "Enter text: QuickBrownFoxJumpsovertheDog\n",
    "\n",
    "Vowels: 9\n",
    "\n",
    "Consonants: 19"
   ]
  },
  {
   "cell_type": "code",
   "execution_count": null,
   "metadata": {},
   "outputs": [],
   "source": [
    "str = input(\"Enter text: \")\n",
    "vowels = 0\n",
    "consonants = 0\n",
    "for chr in str:\n",
    "    if chr in \"AEIOUaeiou\":\n",
    "        vowels += 1\n",
    "    elif not(chr.isalpha()):\n",
    "        continue\n",
    "    else:\n",
    "        consonants += 1\n",
    "print(f\"Vowels: {vowels}\")\n",
    "\n",
    "print(f\"Consonants: {consonants}\")"
   ]
  },
  {
   "cell_type": "markdown",
   "metadata": {},
   "source": [
    "### 19. Palindrome tester\n",
    "\n",
    "Write a program to check whether given input is palindrome or not\n",
    "\n",
    "#### Program Console Sample 1:\n",
    "\n",
    "Enter text: AHA\n",
    "\n",
    "Text AHA is Palindrome\n",
    "\n",
    "#### Program Console Sample 2:\n",
    "\n",
    "Enter text: Hello\n",
    "\n",
    "Text Hello is not a Palindrome"
   ]
  },
  {
   "cell_type": "code",
   "execution_count": null,
   "metadata": {},
   "outputs": [],
   "source": [
    "str = input(\"Enter text: \")\n",
    "str2 = str[::-1]\n",
    "if str == str2:\n",
    "    print(f\"Text {str} is Palindrome\")\n",
    "else:\n",
    "    print(f\"Text {str} is not Palindrome\")"
   ]
  },
  {
   "cell_type": "markdown",
   "metadata": {},
   "source": [
    "### 20. Count Alphabets, Numbers and Special Characters\n",
    "\n",
    "Write a Python program that accepts a string and calculate the number of digits and letters\n",
    "\n",
    "#### Program Console Sample 1:\n",
    "\n",
    "Enter text: Python 3.2\n",
    "\n",
    "Numbers = 2\n",
    "\n",
    "Alphabets = 6\n",
    "\n",
    "Special Characters = 1\n",
    "\n",
    "Spaces = 1 "
   ]
  },
  {
   "cell_type": "code",
   "execution_count": null,
   "metadata": {},
   "outputs": [],
   "source": [
    "str = input(\"Enter text: \")\n",
    "alphabets = 0\n",
    "digits = 0\n",
    "spaces = 0\n",
    "special = 0\n",
    "for chr in str:\n",
    "    if chr.isalpha():\n",
    "        alphabets += 1\n",
    "    elif chr.isdigit():\n",
    "        digits += 1\n",
    "    elif chr.isspace():\n",
    "        spaces += 1\n",
    "    else:\n",
    "        special += 1\n",
    "print(f\"Numbers = {digits}\")\n",
    "\n",
    "print(f\"Alphabets = {alphabets}\")\n",
    "\n",
    "print(f\"Special Characters = {special}\")\n",
    "\n",
    "print(f\"Spaces = {spaces}\")"
   ]
  },
  {
   "cell_type": "markdown",
   "metadata": {},
   "source": [
    "#### 21. Write a Python program to construct the following pattern\n",
    "\n",
    "# * \n",
    "# * * \n",
    "# * * * \n",
    "# * * * * \n",
    "# * * * * * \n",
    "# * * * * \n",
    "# * * * \n",
    "# * * \n",
    "# *"
   ]
  },
  {
   "cell_type": "code",
   "execution_count": null,
   "metadata": {},
   "outputs": [],
   "source": [
    "ch = \"*\"\n",
    "i = 0\n",
    "while i < 10:\n",
    "    if i < 5:\n",
    "        j = i + 1\n",
    "    else:\n",
    "        j = 9 - i\n",
    "    while j > 0:\n",
    "        print(ch, end = \" \")\n",
    "        j -= 1\n",
    "    print()\n",
    "    i += 1"
   ]
  },
  {
   "cell_type": "markdown",
   "metadata": {},
   "source": [
    "### 22. Write a Python program to construct the following pattern\n",
    "\n",
    "1\n",
    "\n",
    "1 2 \n",
    "\n",
    "1 2 3 \n",
    "\n",
    "1 2 3 4 \n",
    "\n",
    "1 2 3 4 5 \n",
    "\n",
    "1 2 3 4 \n",
    "\n",
    "1 2 3 \n",
    "\n",
    "1 2\n",
    "\n",
    "1"
   ]
  },
  {
   "cell_type": "code",
   "execution_count": null,
   "metadata": {},
   "outputs": [],
   "source": [
    "i = 0\n",
    "while i < 10:\n",
    "    if i < 5:\n",
    "        j = 9 - i\n",
    "    else:\n",
    "        j = i + 1\n",
    "    k = 1\n",
    "    while j < 10:\n",
    "        print(k, end = \" \")\n",
    "        k += 1\n",
    "        j += 1\n",
    "    print()\n",
    "    i += 1"
   ]
  },
  {
   "cell_type": "markdown",
   "metadata": {},
   "source": [
    "### 23. Write a Python program to construct the following pattern\n",
    "\n",
    "1\n",
    "\n",
    "22\n",
    "\n",
    "333\n",
    "\n",
    "4444\n",
    "\n",
    "55555\n",
    "\n",
    "666666\n",
    "\n",
    "7777777\n",
    "\n",
    "88888888\n",
    "\n",
    "999999999"
   ]
  },
  {
   "cell_type": "code",
   "execution_count": null,
   "metadata": {},
   "outputs": [],
   "source": [
    "i = 1\n",
    "while i < 10:\n",
    "    j = 1\n",
    "    while j <= i:\n",
    "        print(i, end = \"\")\n",
    "        j += 1\n",
    "    print()\n",
    "    i += 1"
   ]
  }
 ],
 "metadata": {
  "kernelspec": {
   "display_name": "Python 3",
   "language": "python",
   "name": "python3"
  },
  "language_info": {
   "codemirror_mode": {
    "name": "ipython",
    "version": 3
   },
   "file_extension": ".py",
   "mimetype": "text/x-python",
   "name": "python",
   "nbconvert_exporter": "python",
   "pygments_lexer": "ipython3",
   "version": "3.7.3"
  }
 },
 "nbformat": 4,
 "nbformat_minor": 2
}
